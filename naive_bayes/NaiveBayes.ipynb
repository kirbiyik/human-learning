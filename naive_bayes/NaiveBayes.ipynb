{
 "cells": [
  {
   "cell_type": "code",
   "execution_count": 1,
   "metadata": {},
   "outputs": [],
   "source": [
    "import numpy as np\n",
    "import scipy.io"
   ]
  },
  {
   "cell_type": "code",
   "execution_count": 2,
   "metadata": {},
   "outputs": [],
   "source": [
    "data = scipy.io.loadmat('textdata.mat')"
   ]
  },
  {
   "cell_type": "markdown",
   "metadata": {},
   "source": [
    "- Vocabulary is a V ×1 dimensional cell array that that contains every word appearing in the documents. When we refer to the jth word, we mean Vocabulary(j,1).\n",
    "- XTrain is a n × V dimensional matrix describing the n documents used for training your Naive Bayes classifier. The entry XTrain(i,j) is 1 if word j appears in the ith training document and 0 otherwise.\n",
    "- yTrain is a n×1 dimensional matrix containing the class labels for the training documents. yTrain(i,1) is 1 if the ith document belongs to The Economist and 2 if it belongs to The Onion.\n",
    "- XTest and yTest are the same as XTrain and yTrain, except instead of having n rows, they have m rows. This is the data you will test your classifier on and it should not be used for training."
   ]
  },
  {
   "cell_type": "code",
   "execution_count": 3,
   "metadata": {},
   "outputs": [
    {
     "name": "stdout",
     "output_type": "stream",
     "text": [
      "__header__ <class 'bytes'>\n",
      "__version__ <class 'str'>\n",
      "__globals__ <class 'list'>\n",
      "XTrain <class 'scipy.sparse.csc.csc_matrix'>\n",
      "XTest <class 'scipy.sparse.csc.csc_matrix'>\n",
      "XTrainSmall <class 'scipy.sparse.csc.csc_matrix'>\n",
      "yTrain <class 'numpy.ndarray'>\n",
      "yTest <class 'numpy.ndarray'>\n",
      "yTrainSmall <class 'numpy.ndarray'>\n",
      "Vocabulary <class 'numpy.ndarray'>\n"
     ]
    }
   ],
   "source": [
    "# check types\n",
    "[print(k, type(data[k])) for k in data.keys()];"
   ]
  },
  {
   "cell_type": "code",
   "execution_count": 4,
   "metadata": {},
   "outputs": [
    {
     "name": "stdout",
     "output_type": "stream",
     "text": [
      "True\n",
      "True\n",
      "True\n",
      "True\n"
     ]
    }
   ],
   "source": [
    "# convert all to numpy arrays\n",
    "splits = ['XTrain', 'XTest', 'XTrainSmall']\n",
    "x_train, x_test, x_train_small = [data[s].toarray() for s in splits]\n",
    "splits = ['yTrain', 'yTest', 'yTrainSmall', 'Vocabulary']\n",
    "y_train, y_test, y_train_small, vocab = [data[s] for s in splits]\n",
    "# Sanity check\n",
    "print(x_train.shape[0] == y_train.shape[0])\n",
    "print(x_test.shape[0] == y_test.shape[0])\n",
    "print(x_train.shape[1] == x_test.shape[1])\n",
    "print(vocab.shape[0] == x_test.shape[1])"
   ]
  },
  {
   "cell_type": "markdown",
   "metadata": {},
   "source": [
    "<img src=\"assets/estimates.png\" width=\"40%\">"
   ]
  },
  {
   "cell_type": "code",
   "execution_count": 5,
   "metadata": {},
   "outputs": [
    {
     "name": "stdout",
     "output_type": "stream",
     "text": [
      "True\n"
     ]
    }
   ],
   "source": [
    "def log_prod(log_x):\n",
    "    \"\"\"\n",
    "    Returns the product of elements in logspace.\n",
    "    \"\"\"\n",
    "    return np.sum(log_x, axis=0)\n",
    "\n",
    "# Check\n",
    "print(log_prod([np.log(3), np.log(5)]) == np.log(3*5))\n",
    "\n",
    "\n",
    "def xgiveny(x_train, y_train):\n",
    "    \"\"\"\n",
    "     The output is a (2×Vocab), where for any word index w ∈ {1,...,Vocab}\n",
    "     and class index y ∈ {1, 2}, the entry out(y,w) is the MAP estimate of \n",
    "     θ_yw = P(X_w = 1|Y = y) with a Beta(2,1) prior distribution.\n",
    "    \"\"\"\n",
    "    mask_one = y_train == 1\n",
    "    mask_two = y_train == 2\n",
    "    out = np.ndarray((2, x_train.shape[1]))\n",
    "    # See image above for formula\n",
    "    out[0,:] = (np.sum(mask_one * x_train, axis=0) + 1) / ((np.sum(mask_one, axis=0)+ 1))\n",
    "    out[1,:] = (np.sum(mask_two * x_train, axis=0) + 1) / ((np.sum(mask_two, axis=0)+ 1))\n",
    "    return out\n",
    "\n",
    "\n",
    "def yprior(y_train):\n",
    "    \"\"\"\n",
    "    Returns prior, the estimation of P(θ_head=1)\n",
    "\n",
    "    \"\"\"\n",
    "    out = np.ndarray(2, )\n",
    "    return (np.sum(y_train==1, axis=0) / y_train.shape[0])[0]\n",
    "\n",
    "\n",
    "def accuracy(preds, ground_truths):\n",
    "    return np.sum(preds == ground_truths) / preds.shape[0] * 100\n",
    "\n",
    "\n",
    "def classify(likelihood, y_prior, x_pred):\n",
    "    \"\"\"\n",
    "    likelihood: (2, Vocab) \n",
    "    y_prior: value for yk=0\n",
    "    \"\"\"\n",
    "    sample_size = x_pred.shape[0]\n",
    "    classes = np.ndarray((sample_size, 1))\n",
    "    for i in range(sample_size):\n",
    "        # find P(X_pred | Y = 0)\n",
    "        probs_0 = likelihood[0,:] * x_pred[i,:] + (1-likelihood[0,:]) * (1-x_pred[i, :])\n",
    "        # find P(X_pred | Y = 1)\n",
    "        probs_1 = likelihood[1,:] * x_pred[i,:] + (1-likelihood[1,:]) * (1-x_pred[i, :])\n",
    "        # do logarithm trick, concat probs and prior\n",
    "        score_0 = log_prod(np.concatenate(([np.log(prior)], np.log(probs_0))))\n",
    "        score_1 = log_prod(np.concatenate(([np.log(1 - prior)], np.log(probs_1))))\n",
    "        classes[i] = 1 if score_0 > score_1 else 2\n",
    "    return classes"
   ]
  },
  {
   "cell_type": "code",
   "execution_count": 6,
   "metadata": {},
   "outputs": [
    {
     "name": "stderr",
     "output_type": "stream",
     "text": [
      "/Users/computa/miniconda3/envs/AI/lib/python3.6/site-packages/ipykernel_launcher.py:53: RuntimeWarning: divide by zero encountered in log\n"
     ]
    },
    {
     "data": {
      "text/plain": [
       "97.93103448275862"
      ]
     },
     "execution_count": 6,
     "metadata": {},
     "output_type": "execute_result"
    }
   ],
   "source": [
    "# Learn parameters from training data\n",
    "likelihood = xgiveny(x_train, y_train)\n",
    "prior = yprior(y_train)\n",
    "# Since we have extracted likelihood and y_prior, we can make predictions\n",
    "preds = classify(likelihood, prior, x_test)\n",
    "accuracy(preds, y_test)"
   ]
  },
  {
   "cell_type": "code",
   "execution_count": 7,
   "metadata": {},
   "outputs": [
    {
     "name": "stderr",
     "output_type": "stream",
     "text": [
      "/Users/computa/miniconda3/envs/AI/lib/python3.6/site-packages/ipykernel_launcher.py:53: RuntimeWarning: divide by zero encountered in log\n"
     ]
    },
    {
     "data": {
      "text/plain": [
       "72.41379310344827"
      ]
     },
     "execution_count": 7,
     "metadata": {},
     "output_type": "execute_result"
    }
   ],
   "source": [
    "# Try estimating parameters from small dataset\n",
    "likelihood = xgiveny(x_train_small, y_train_small)\n",
    "prior = yprior(y_train_small)\n",
    "# Since we have extracted likelihood and y_prior, we can make predictions\n",
    "preds = classify(likelihood, prior, x_test)\n",
    "accuracy(preds, y_test)"
   ]
  },
  {
   "cell_type": "code",
   "execution_count": null,
   "metadata": {},
   "outputs": [],
   "source": []
  }
 ],
 "metadata": {
  "kernelspec": {
   "display_name": "Python3 AI env.",
   "language": "python",
   "name": "ai"
  },
  "language_info": {
   "codemirror_mode": {
    "name": "ipython",
    "version": 3
   },
   "file_extension": ".py",
   "mimetype": "text/x-python",
   "name": "python",
   "nbconvert_exporter": "python",
   "pygments_lexer": "ipython3",
   "version": "3.6.4"
  }
 },
 "nbformat": 4,
 "nbformat_minor": 2
}
